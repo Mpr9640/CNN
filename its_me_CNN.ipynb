{
  "nbformat": 4,
  "nbformat_minor": 0,
  "metadata": {
    "colab": {
      "provenance": [],
      "authorship_tag": "ABX9TyN/m8gncK3HH5b94AqzKnVO",
      "include_colab_link": true
    },
    "kernelspec": {
      "name": "python3",
      "display_name": "Python 3"
    },
    "language_info": {
      "name": "python"
    }
  },
  "cells": [
    {
      "cell_type": "markdown",
      "metadata": {
        "id": "view-in-github",
        "colab_type": "text"
      },
      "source": [
        "<a href=\"https://colab.research.google.com/github/Mpr9640/CNN/blob/main/its_me_CNN.ipynb\" target=\"_parent\"><img src=\"https://colab.research.google.com/assets/colab-badge.svg\" alt=\"Open In Colab\"/></a>"
      ]
    },
    {
      "cell_type": "code",
      "execution_count": null,
      "metadata": {
        "id": "9epODWocTHa6"
      },
      "outputs": [],
      "source": [
        "import tensorflow as tf\n",
        "from sklearn.model_selection import train_test_split\n",
        "import matplotlib.pyplot as plt\n",
        "import numpy as np\n",
        "\n",
        "fashion_mnist = tf.keras.datasets.fashion_mnist\n",
        "class_names = [\"T-shirt/top\", \"Trouser\", \"Pullover\", \"Dress\", \"Coat\",\n",
        "               \"Sandal\", \"Shirt\", \"Sneaker\", \"Bag\", \"Ankle boot\"]\n",
        "\n",
        "\n",
        "# Read the train and test sets\n",
        "(train_images, train_labels), (test_images, test_labels) = fashion_mnist.load_data()\n",
        "\n",
        "#Splitting the train set into new train and validation sets\n",
        "train_images, val_images, train_labels, val_labels = train_test_split(\n",
        "  train_images, train_labels, train_size=0.5, random_state=42)"
      ]
    },
    {
      "cell_type": "code",
      "source": [
        "print(\"train\",train_images.shape)\n",
        "print(\"val\",val_images.shape)\n",
        "print(\"test\",test_images.shape)"
      ],
      "metadata": {
        "colab": {
          "base_uri": "https://localhost:8080/"
        },
        "id": "SYn5zuziWLDs",
        "outputId": "4e572966-a83d-47ec-8c35-24182418a75f"
      },
      "execution_count": null,
      "outputs": [
        {
          "output_type": "stream",
          "name": "stdout",
          "text": [
            "train (30000, 28, 28)\n",
            "val (30000, 28, 28)\n",
            "test (10000, 28, 28)\n"
          ]
        }
      ]
    },
    {
      "cell_type": "code",
      "source": [
        "#for modelA;\n",
        "number_of_classes=len(class_names)\n",
        "model_A = tf.keras.Sequential([\n",
        "    tf.keras.layers.Conv2D(32, kernel_size=(3, 3), activation='relu', input_shape=(28, 28, 1), strides=2),\n",
        "    tf.keras.layers.Conv2D(64, (3, 3), activation='relu', strides=2),\n",
        "    tf.keras.layers.Conv2D(120, (3, 3), activation=\"relu\"),\n",
        "    tf.keras.layers.MaxPooling2D(pool_size=(3, 3), strides=2),\n",
        "    tf.keras.layers.Dropout(0.25),\n",
        "    tf.keras.layers.Flatten(),\n",
        "    tf.keras.layers.Dense(number_of_classes, activation='softmax')\n",
        "])\n",
        "\n",
        "# Calculate the total number of parameters in model_A\n",
        "model_A_params = model_A.count_params()\n",
        "print(\"Number of parameters in model_A:\", model_A_params)"
      ],
      "metadata": {
        "colab": {
          "base_uri": "https://localhost:8080/"
        },
        "id": "eFDas36kZ20T",
        "outputId": "b690be2e-2748-4fa8-9fd6-956d10a281c2"
      },
      "execution_count": null,
      "outputs": [
        {
          "output_type": "stream",
          "name": "stdout",
          "text": [
            "Number of parameters in model_A: 89266\n"
          ]
        }
      ]
    },
    {
      "cell_type": "code",
      "source": [
        "tf.keras.utils.plot_model(model_A,show_shapes=True)"
      ],
      "metadata": {
        "id": "1sVTtoXfb9CF"
      },
      "execution_count": null,
      "outputs": []
    },
    {
      "cell_type": "code",
      "source": [
        "train_labels_one_hot = tf.keras.utils.to_categorical(train_labels, num_classes=number_of_classes)\n",
        "val_labels_one_hot=tf.keras.utils.to_categorical(val_labels,num_classes=number_of_classes)\n",
        "test_labels_one_hot=tf.keras.utils.to_categorical(test_labels,num_classes=number_of_classes)"
      ],
      "metadata": {
        "id": "vjXo_xUdclkB"
      },
      "execution_count": null,
      "outputs": []
    },
    {
      "cell_type": "code",
      "source": [
        "train_images = train_images / 255.0\n",
        "val_images = val_images / 255.0\n",
        "test_images = test_images / 255.0"
      ],
      "metadata": {
        "id": "lFELa2j2dBLY"
      },
      "execution_count": null,
      "outputs": []
    },
    {
      "cell_type": "code",
      "source": [
        "#learnign process before training\n",
        "model_A.compile(optimizer='adam',\n",
        "              loss=tf.keras.losses.CategoricalCrossentropy(from_logits=True),\n",
        "              metrics=['accuracy'])"
      ],
      "metadata": {
        "id": "THpX2Vyedh5d"
      },
      "execution_count": null,
      "outputs": []
    },
    {
      "cell_type": "code",
      "source": [
        "history = model_A.fit(\n",
        "    train_images,\n",
        "    train_labels_one_hot,\n",
        "    epochs=5,\n",
        "    verbose=True,\n",
        "    validation_data=(val_images, val_labels_one_hot)\n",
        ")\n"
      ],
      "metadata": {
        "colab": {
          "base_uri": "https://localhost:8080/"
        },
        "id": "YftXHQOSdoA_",
        "outputId": "f557d988-7c45-4d3e-faa2-23c8c73777a2"
      },
      "execution_count": null,
      "outputs": [
        {
          "output_type": "stream",
          "name": "stdout",
          "text": [
            "Epoch 1/5\n",
            "938/938 [==============================] - 20s 21ms/step - loss: 0.2554 - accuracy: 0.9068 - val_loss: 0.2316 - val_accuracy: 0.9114\n",
            "Epoch 2/5\n",
            "938/938 [==============================] - 19s 20ms/step - loss: 0.2378 - accuracy: 0.9115 - val_loss: 0.2291 - val_accuracy: 0.9131\n",
            "Epoch 3/5\n",
            "938/938 [==============================] - 19s 21ms/step - loss: 0.2220 - accuracy: 0.9177 - val_loss: 0.2421 - val_accuracy: 0.9088\n",
            "Epoch 4/5\n",
            "938/938 [==============================] - 19s 20ms/step - loss: 0.2111 - accuracy: 0.9219 - val_loss: 0.2460 - val_accuracy: 0.9095\n",
            "Epoch 5/5\n",
            "938/938 [==============================] - 20s 21ms/step - loss: 0.2046 - accuracy: 0.9235 - val_loss: 0.2449 - val_accuracy: 0.9100\n"
          ]
        }
      ]
    },
    {
      "cell_type": "code",
      "source": [
        "plt.figure(figsize=(12, 5))\n",
        "plt.subplot(1, 2, 1)\n",
        "plt.plot(history.history['loss'], label='Training Loss')\n",
        "plt.plot(history.history['val_loss'], label='Validation Loss')\n",
        "plt.title('Model Loss')\n",
        "plt.xlabel('Epoch')\n",
        "plt.ylabel('Loss')\n",
        "plt.legend()"
      ],
      "metadata": {
        "colab": {
          "base_uri": "https://localhost:8080/",
          "height": 504
        },
        "id": "0ZmA4oKpwz8U",
        "outputId": "3bb63922-f036-4d26-b32c-aecd200b6e1e"
      },
      "execution_count": null,
      "outputs": [
        {
          "output_type": "execute_result",
          "data": {
            "text/plain": [
              "<matplotlib.legend.Legend at 0x7f22ac52ad40>"
            ]
          },
          "metadata": {},
          "execution_count": 102
        },
        {
          "output_type": "display_data",
          "data": {
            "text/plain": [
              "<Figure size 1200x500 with 1 Axes>"
            ],
            "image/png": "[encoded data removed]"
          },
          "metadata": {}
        }
      ]
    },
    {
      "cell_type": "code",
      "source": [
        "plt.subplot(1, 2, 2)\n",
        "plt.plot(history.history['accuracy'], label='Training Accuracy')\n",
        "plt.plot(history.history['val_accuracy'], label='Validation Accuracy')\n",
        "plt.title('Model Accuracy')\n",
        "plt.xlabel('Epoch')\n",
        "plt.ylabel('Accuracy')\n",
        "plt.legend()\n",
        "\n",
        "plt.show()"
      ],
      "metadata": {
        "colab": {
          "base_uri": "https://localhost:8080/",
          "height": 472
        },
        "id": "PQc4RrmXxnEi",
        "outputId": "01792aa5-0d88-4ffa-8e7e-dd3a678dfa67"
      },
      "execution_count": null,
      "outputs": [
        {
          "output_type": "display_data",
          "data": {
            "text/plain": [
              "<Figure size 640x480 with 1 Axes>"
            ],
            "image/png": "[encoded data removed]"
          },
          "metadata": {}
        }
      ]
    },
    {
      "cell_type": "code",
      "source": [
        "full_train_images = np.concatenate((train_images, val_images))\n",
        "full_train_labels_one_hot = np.concatenate((train_labels_one_hot, val_labels_one_hot))\n",
        "\n",
        "history = model_A.fit(\n",
        "    full_train_images,\n",
        "    full_train_labels_one_hot,\n",
        "    epochs=5,\n",
        "    verbose=True\n",
        "    # Note: We are not using a validation set here since we are training on the full dataset\n",
        ")"
      ],
      "metadata": {
        "colab": {
          "base_uri": "https://localhost:8080/"
        },
        "id": "MxcdBgy2fNmJ",
        "outputId": "f45ea8f7-6258-471b-84bd-3a1032be5eb2"
      },
      "execution_count": null,
      "outputs": [
        {
          "output_type": "stream",
          "name": "stdout",
          "text": [
            "Epoch 1/5\n",
            "1875/1875 [==============================] - 31s 16ms/step - loss: 0.2391 - accuracy: 0.9130\n",
            "Epoch 2/5\n",
            "1875/1875 [==============================] - 28s 15ms/step - loss: 0.2251 - accuracy: 0.9168\n",
            "Epoch 3/5\n",
            "1875/1875 [==============================] - 28s 15ms/step - loss: 0.2145 - accuracy: 0.9205\n",
            "Epoch 4/5\n",
            "1875/1875 [==============================] - 29s 16ms/step - loss: 0.2053 - accuracy: 0.9237\n",
            "Epoch 5/5\n",
            "1875/1875 [==============================] - 30s 16ms/step - loss: 0.1975 - accuracy: 0.9264\n"
          ]
        }
      ]
    },
    {
      "cell_type": "code",
      "source": [
        "model_B = tf.keras.Sequential([\n",
        "    tf.keras.layers.Conv2D(32, kernel_size=(5, 5), activation='relu', input_shape=(28, 28, 1), strides=1),\n",
        "    tf.keras.layers.MaxPooling2D(pool_size=(2, 2), strides=2),\n",
        "    tf.keras.layers.Conv2D(64, (5, 5), activation='relu', strides=1),\n",
        "    tf.keras.layers.MaxPooling2D(pool_size=(2, 2), strides=2),\n",
        "    tf.keras.layers.Flatten(),\n",
        "    tf.keras.layers.Dense(36, activation='relu'),  #hidden layer\n",
        "    tf.keras.layers.Dropout(0.5),\n",
        "    tf.keras.layers.Dense(number_of_classes, activation='softmax')\n",
        "])\n",
        "\n",
        "# Check if the number of parameters in model_B is approximately the same as model_A\n",
        "model_B_params = model_B.count_params()\n",
        "print(\"Number of parameters in model_B:\", model_B_params)\n"
      ],
      "metadata": {
        "colab": {
          "base_uri": "https://localhost:8080/"
        },
        "id": "WECUzA-Oimfa",
        "outputId": "4f2b3a08-5ce8-4fa5-d99c-ca8ce85155c4"
      },
      "execution_count": null,
      "outputs": [
        {
          "output_type": "stream",
          "name": "stdout",
          "text": [
            "Number of parameters in model_B: 89366\n"
          ]
        }
      ]
    },
    {
      "cell_type": "code",
      "source": [
        "model_B.compile(optimizer='adam',\n",
        "              loss=tf.keras.losses.CategoricalCrossentropy(from_logits=True),\n",
        "              metrics=['accuracy'])"
      ],
      "metadata": {
        "id": "1u5vwte6oMwY"
      },
      "execution_count": null,
      "outputs": []
    },
    {
      "cell_type": "code",
      "source": [
        "history = model_B.fit(\n",
        "    train_images,\n",
        "    train_labels_one_hot,\n",
        "    epochs=5,\n",
        "    verbose=True,\n",
        "    validation_data=(val_images, val_labels_one_hot)\n",
        ")"
      ],
      "metadata": {
        "colab": {
          "base_uri": "https://localhost:8080/"
        },
        "id": "aB6N-CHEmT_f",
        "outputId": "2829c0c7-4850-419f-e5c6-6ce236d6df6c"
      },
      "execution_count": null,
      "outputs": [
        {
          "output_type": "stream",
          "name": "stdout",
          "text": [
            "Epoch 1/5\n",
            "938/938 [==============================] - 47s 49ms/step - loss: 0.8897 - accuracy: 0.6774 - val_loss: 0.4552 - val_accuracy: 0.8383\n",
            "Epoch 2/5\n",
            "938/938 [==============================] - 42s 44ms/step - loss: 0.6140 - accuracy: 0.7753 - val_loss: 0.4013 - val_accuracy: 0.8557\n",
            "Epoch 3/5\n",
            "938/938 [==============================] - 40s 43ms/step - loss: 0.5396 - accuracy: 0.8025 - val_loss: 0.3644 - val_accuracy: 0.8682\n",
            "Epoch 4/5\n",
            "938/938 [==============================] - 42s 45ms/step - loss: 0.4808 - accuracy: 0.8221 - val_loss: 0.3418 - val_accuracy: 0.8758\n",
            "Epoch 5/5\n",
            "938/938 [==============================] - 40s 43ms/step - loss: 0.4493 - accuracy: 0.8335 - val_loss: 0.3339 - val_accuracy: 0.8819\n"
          ]
        }
      ]
    },
    {
      "cell_type": "code",
      "source": [
        "history = model_B.fit(\n",
        "    full_train_images,\n",
        "    full_train_labels_one_hot,\n",
        "    epochs=5,\n",
        "    verbose=True\n",
        "    # Note: We are not using a validation set here since we are training on the full dataset\n",
        ")"
      ],
      "metadata": {
        "colab": {
          "base_uri": "https://localhost:8080/"
        },
        "id": "BrPa2DYlmgN1",
        "outputId": "5c3c1d7f-931d-472a-8cea-87d6180fb699"
      },
      "execution_count": null,
      "outputs": [
        {
          "output_type": "stream",
          "name": "stdout",
          "text": [
            "Epoch 1/5\n",
            "1875/1875 [==============================] - 64s 34ms/step - loss: 0.7571 - accuracy: 0.7250\n",
            "Epoch 2/5\n",
            "1875/1875 [==============================] - 66s 35ms/step - loss: 0.5062 - accuracy: 0.8172\n",
            "Epoch 3/5\n",
            "1875/1875 [==============================] - 62s 33ms/step - loss: 0.4500 - accuracy: 0.8380\n",
            "Epoch 4/5\n",
            "1875/1875 [==============================] - 62s 33ms/step - loss: 0.4087 - accuracy: 0.8515\n",
            "Epoch 5/5\n",
            "1875/1875 [==============================] - 63s 33ms/step - loss: 0.3734 - accuracy: 0.8630\n"
          ]
        }
      ]
    },
    {
      "cell_type": "code",
      "source": [
        "loss, accuracy = model_A.evaluate(test_images, test_labels_one_hot)\n",
        "print(f\"Test accuracy: {accuracy*100:.2f}%\")"
      ],
      "metadata": {
        "colab": {
          "base_uri": "https://localhost:8080/"
        },
        "id": "sqleAAc9rMAt",
        "outputId": "ae8fa04c-44cb-4b3b-99d1-5a4adc90bbd2"
      },
      "execution_count": null,
      "outputs": [
        {
          "output_type": "stream",
          "name": "stdout",
          "text": [
            "313/313 [==============================] - 2s 5ms/step - loss: 0.3094 - accuracy: 0.8879\n",
            "Test accuracy: 88.79%\n"
          ]
        }
      ]
    },
    {
      "cell_type": "code",
      "source": [
        "loss, accuracy = model_B.evaluate(test_images, test_labels_one_hot)\n",
        "print(f\"Test accuracy: {accuracy*100:.2f}%\")"
      ],
      "metadata": {
        "colab": {
          "base_uri": "https://localhost:8080/"
        },
        "id": "ee11mBFUrN-O",
        "outputId": "55540af7-3a5e-4d40-cd73-fbd76f2d9cfe"
      },
      "execution_count": null,
      "outputs": [
        {
          "output_type": "stream",
          "name": "stdout",
          "text": [
            "313/313 [==============================] - 4s 12ms/step - loss: 0.3543 - accuracy: 0.8745\n",
            "Test accuracy: 87.45%\n"
          ]
        }
      ]
    },
    {
      "cell_type": "code",
      "source": [
        "number_of_classes=len(class_names)\n",
        "model_C = tf.keras.Sequential([ # (To check for 1*1 convolution layer)\n",
        "    tf.keras.layers.Conv2D(32, kernel_size=(1, 1), activation='relu', input_shape=(28, 28, 1), strides=2),\n",
        "    tf.keras.layers.Conv2D(64, (1, 1), activation='relu', strides=2),\n",
        "    tf.keras.layers.Conv2D(120, (1, 1), activation=\"relu\"),\n",
        "    tf.keras.layers.MaxPooling2D(pool_size=(1, 1), strides=2),\n",
        "    tf.keras.layers.Dropout(0.25),\n",
        "    tf.keras.layers.Flatten(),\n",
        "    tf.keras.layers.Dense(number_of_classes, activation='softmax')\n",
        "])\n",
        "\n",
        "# Calculate the total number of parameters in model_A\n",
        "model_C_params = model_C.count_params()\n",
        "print(\"Number of parameters in model_A:\", model_C_params)"
      ],
      "metadata": {
        "colab": {
          "base_uri": "https://localhost:8080/"
        },
        "id": "BPP3Gp1IsdB7",
        "outputId": "553e1b82-e5b0-460d-a12f-7ed29b43efbc"
      },
      "execution_count": null,
      "outputs": [
        {
          "output_type": "stream",
          "name": "stdout",
          "text": [
            "Number of parameters in model_A: 29186\n"
          ]
        }
      ]
    },
    {
      "cell_type": "code",
      "source": [
        "model_C.compile(optimizer='adam',\n",
        "              loss=tf.keras.losses.CategoricalCrossentropy(from_logits=True),\n",
        "              metrics=['accuracy'])"
      ],
      "metadata": {
        "id": "1In1Vt-tsxM3"
      },
      "execution_count": null,
      "outputs": []
    },
    {
      "cell_type": "code",
      "source": [
        "history = model_C.fit(\n",
        "    full_train_images,\n",
        "    full_train_labels_one_hot,\n",
        "    epochs=5,\n",
        "    verbose=True\n",
        "    # Note: We are not using a validation set here since we are training on the full dataset\n",
        ")"
      ],
      "metadata": {
        "colab": {
          "base_uri": "https://localhost:8080/"
        },
        "id": "YwoZU9Prs1cp",
        "outputId": "65347971-90e7-4562-f76d-9e07e253f680"
      },
      "execution_count": null,
      "outputs": [
        {
          "output_type": "stream",
          "name": "stdout",
          "text": [
            "Epoch 1/5\n"
          ]
        },
        {
          "output_type": "stream",
          "name": "stderr",
          "text": [
            "/usr/local/lib/python3.10/dist-packages/keras/src/backend.py:5575: UserWarning: \"`categorical_crossentropy` received `from_logits=True`, but the `output` argument was produced by a Softmax activation and thus does not represent logits. Was this intended?\n",
            "  output, from_logits = _get_logits(\n"
          ]
        },
        {
          "output_type": "stream",
          "name": "stdout",
          "text": [
            "1875/1875 [==============================] - 21s 10ms/step - loss: 1.0122 - accuracy: 0.6119\n",
            "Epoch 2/5\n",
            "1875/1875 [==============================] - 21s 11ms/step - loss: 0.9373 - accuracy: 0.6348\n",
            "Epoch 3/5\n",
            "1875/1875 [==============================] - 20s 11ms/step - loss: 0.9265 - accuracy: 0.6390\n",
            "Epoch 4/5\n",
            "1875/1875 [==============================] - 21s 11ms/step - loss: 0.9195 - accuracy: 0.6423\n",
            "Epoch 5/5\n",
            "1875/1875 [==============================] - 21s 11ms/step - loss: 0.9162 - accuracy: 0.6425\n"
          ]
        }
      ]
    },
    {
      "cell_type": "code",
      "source": [
        "loss, accuracy = model_C.evaluate(test_images, test_labels_one_hot)\n",
        "print(f\"Test accuracy: {accuracy*100:.2f}%\")"
      ],
      "metadata": {
        "colab": {
          "base_uri": "https://localhost:8080/"
        },
        "id": "LZq7b1jXt50F",
        "outputId": "a914b611-1e60-4752-855e-5b4e51b26289"
      },
      "execution_count": null,
      "outputs": [
        {
          "output_type": "stream",
          "name": "stdout",
          "text": [
            " 15/313 [>.............................] - ETA: 1s - loss: 0.8713 - accuracy: 0.6750 "
          ]
        },
        {
          "output_type": "stream",
          "name": "stderr",
          "text": [
            "/usr/local/lib/python3.10/dist-packages/keras/src/backend.py:5575: UserWarning: \"`categorical_crossentropy` received `from_logits=True`, but the `output` argument was produced by a Softmax activation and thus does not represent logits. Was this intended?\n",
            "  output, from_logits = _get_logits(\n"
          ]
        },
        {
          "output_type": "stream",
          "name": "stdout",
          "text": [
            "313/313 [==============================] - 1s 3ms/step - loss: 0.9304 - accuracy: 0.6430\n",
            "Test accuracy: 64.30%\n"
          ]
        }
      ]
    }
  ]
}